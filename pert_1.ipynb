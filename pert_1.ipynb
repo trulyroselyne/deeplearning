{
  "nbformat": 4,
  "nbformat_minor": 0,
  "metadata": {
    "colab": {
      "name": "pert-1",
      "provenance": []
    },
    "kernelspec": {
      "name": "python3",
      "display_name": "Python 3"
    },
    "language_info": {
      "name": "python"
    }
  },
  "cells": [
    {
      "cell_type": "markdown",
      "source": [
        "# Fundamental Python"
      ],
      "metadata": {
        "id": "8DHvLG63J4SV"
      }
    },
    {
      "cell_type": "markdown",
      "source": [
        "###Print, Variable, Arithmetic"
      ],
      "metadata": {
        "id": "1ZcfwO19Lxte"
      }
    },
    {
      "cell_type": "code",
      "execution_count": 2,
      "metadata": {
        "id": "0n3xwulPJVeF",
        "colab": {
          "base_uri": "https://localhost:8080/"
        },
        "outputId": "11bcb20d-0de9-4d42-de33-60768ab5096b"
      },
      "outputs": [
        {
          "output_type": "stream",
          "name": "stdout",
          "text": [
            "Hello World\n"
          ]
        }
      ],
      "source": [
        "# Print\n",
        "print('Hello World')"
      ]
    },
    {
      "cell_type": "code",
      "execution_count": 3,
      "metadata": {
        "id": "QSApEOcGJVeH",
        "colab": {
          "base_uri": "https://localhost:8080/"
        },
        "outputId": "59a3f5de-35c1-422d-b98e-6d1b0f54823d"
      },
      "outputs": [
        {
          "output_type": "stream",
          "name": "stdout",
          "text": [
            "12\n",
            "7\n"
          ]
        }
      ],
      "source": [
        "# Variables and assignment\n",
        "a = 12\n",
        "print(a)\n",
        "b = 7\n",
        "print(b)"
      ]
    },
    {
      "cell_type": "code",
      "execution_count": 4,
      "metadata": {
        "id": "eXJ8MoRGJVeI",
        "colab": {
          "base_uri": "https://localhost:8080/"
        },
        "outputId": "6e561cd7-6f9a-4d3f-b593-1f956e1b55e5"
      },
      "outputs": [
        {
          "output_type": "stream",
          "name": "stdout",
          "text": [
            "19\n",
            "-5\n",
            "84\n",
            "0.5833333333333334\n"
          ]
        }
      ],
      "source": [
        "# Arithmetic\n",
        "print(a + b)\n",
        "print(b - a)\n",
        "print(a * b)\n",
        "print(b / a)"
      ]
    },
    {
      "cell_type": "code",
      "execution_count": 5,
      "metadata": {
        "id": "3XteNAaCJVeJ",
        "colab": {
          "base_uri": "https://localhost:8080/"
        },
        "outputId": "c8d0d3e8-0abe-4c2c-ede6-aed59b3db2ac"
      },
      "outputs": [
        {
          "output_type": "stream",
          "name": "stdout",
          "text": [
            "19\n"
          ]
        }
      ],
      "source": [
        "# Update\n",
        "a = a + b\n",
        "print(a)"
      ]
    },
    {
      "cell_type": "code",
      "execution_count": 6,
      "metadata": {
        "id": "cCZr_FjDJVeJ",
        "colab": {
          "base_uri": "https://localhost:8080/"
        },
        "outputId": "1e06eb47-3418-4c0c-f500-fda207fca7aa"
      },
      "outputs": [
        {
          "output_type": "stream",
          "name": "stdout",
          "text": [
            "26\n"
          ]
        }
      ],
      "source": [
        "# Increment\n",
        "a += b\n",
        "print(a)"
      ]
    },
    {
      "cell_type": "markdown",
      "source": [
        "###Tipe Data"
      ],
      "metadata": {
        "id": "Jw2VsMDJL3io"
      }
    },
    {
      "cell_type": "markdown",
      "source": [
        "Integer"
      ],
      "metadata": {
        "id": "fFqKgKIQNFd-"
      }
    },
    {
      "cell_type": "code",
      "source": [
        "td_int = 12\n",
        "print(td_int)"
      ],
      "metadata": {
        "colab": {
          "base_uri": "https://localhost:8080/"
        },
        "id": "CsX3O8zjL8nf",
        "outputId": "ebe69a9e-cb7c-4344-805f-d6b67ffef1ca"
      },
      "execution_count": 12,
      "outputs": [
        {
          "output_type": "stream",
          "name": "stdout",
          "text": [
            "12\n"
          ]
        }
      ]
    },
    {
      "cell_type": "markdown",
      "source": [
        "Float"
      ],
      "metadata": {
        "id": "Op-P2s9ONKRL"
      }
    },
    {
      "cell_type": "code",
      "source": [
        "td_float = 12.2\n",
        "print(td_float)"
      ],
      "metadata": {
        "colab": {
          "base_uri": "https://localhost:8080/"
        },
        "id": "RNeNDBl5MORK",
        "outputId": "784c89b7-f287-4417-d9ba-971b81d89564"
      },
      "execution_count": 13,
      "outputs": [
        {
          "output_type": "stream",
          "name": "stdout",
          "text": [
            "12.2\n"
          ]
        }
      ]
    },
    {
      "cell_type": "markdown",
      "source": [
        "Double"
      ],
      "metadata": {
        "id": "lUS_hstUNOgx"
      }
    },
    {
      "cell_type": "code",
      "source": [
        "td_doub = 12.22222222222222\n",
        "print(td_doub)"
      ],
      "metadata": {
        "colab": {
          "base_uri": "https://localhost:8080/"
        },
        "id": "l-NRIj24MTlG",
        "outputId": "51ea6fe1-7067-4f34-8fbf-151cbaa5b8b7"
      },
      "execution_count": 47,
      "outputs": [
        {
          "output_type": "stream",
          "name": "stdout",
          "text": [
            "12.22222222222222\n"
          ]
        }
      ]
    },
    {
      "cell_type": "markdown",
      "source": [
        "String"
      ],
      "metadata": {
        "id": "xK3PlAJsNQWM"
      }
    },
    {
      "cell_type": "code",
      "source": [
        "string1 = \"Halo\"\n",
        "string2 = \"Gais\"\n",
        "print(string1, string2)"
      ],
      "metadata": {
        "colab": {
          "base_uri": "https://localhost:8080/"
        },
        "id": "DNlqYtdZMs-j",
        "outputId": "d8ebdd09-dacc-4072-d217-38c823a94069"
      },
      "execution_count": 48,
      "outputs": [
        {
          "output_type": "stream",
          "name": "stdout",
          "text": [
            "Halo Gais\n"
          ]
        }
      ]
    },
    {
      "cell_type": "code",
      "execution_count": 49,
      "metadata": {
        "colab": {
          "base_uri": "https://localhost:8080/"
        },
        "id": "AijEDtPFL9fP",
        "outputId": "1e6a22a1-2f2b-429a-da8a-26ecec224e3b"
      },
      "outputs": [
        {
          "output_type": "stream",
          "name": "stdout",
          "text": [
            "Halo 4\n"
          ]
        }
      ],
      "source": [
        "print(string1, len(string2))"
      ]
    },
    {
      "cell_type": "code",
      "execution_count": 50,
      "metadata": {
        "colab": {
          "base_uri": "https://localhost:8080/"
        },
        "id": "Nji1_UjYL9fY",
        "outputId": "1bde1557-047c-4448-f618-c578957f35e1"
      },
      "outputs": [
        {
          "output_type": "stream",
          "name": "stdout",
          "text": [
            "Halo Gais 12\n"
          ]
        }
      ],
      "source": [
        "string12 = '{} {} {}'.format(string1, string2, 12)  # string formatting\n",
        "print(string12)"
      ]
    },
    {
      "cell_type": "code",
      "execution_count": 51,
      "metadata": {
        "colab": {
          "base_uri": "https://localhost:8080/"
        },
        "id": "VOxGatlsL9fd",
        "outputId": "ec9362e6-4661-412c-c2ef-f58d9686a11a"
      },
      "outputs": [
        {
          "output_type": "stream",
          "name": "stdout",
          "text": [
            "Halo\n",
            "HALO\n",
            "   Halo\n",
            "  Halo \n",
            "H(ell)o\n",
            "world\n"
          ]
        }
      ],
      "source": [
        "print(string1.capitalize())  # Capitalize a string\n",
        "print(string1.upper())       # Convert a string to uppercase; prints \"HELLO\"\n",
        "print(string1.rjust(7))      # Right-justify a string, padding with spaces\n",
        "print(string1.center(7))     # Center a string, padding with spaces\n",
        "print(string1.replace('al', '(ell)'))  # Replace all instances of one substring with another\n",
        "print('  world '.strip())  # Strip leading and trailing whitespace"
      ]
    },
    {
      "cell_type": "markdown",
      "source": [
        "Boolean"
      ],
      "metadata": {
        "id": "ulwc4AANNfSu"
      }
    },
    {
      "cell_type": "code",
      "execution_count": 16,
      "metadata": {
        "colab": {
          "base_uri": "https://localhost:8080/"
        },
        "id": "RvoImwgGL9fE",
        "outputId": "39d868c0-ba2b-4c40-f85e-a1a96b5171bb"
      },
      "outputs": [
        {
          "output_type": "stream",
          "name": "stdout",
          "text": [
            "<class 'bool'>\n"
          ]
        }
      ],
      "source": [
        "t, f = True, False\n",
        "print(type(t))"
      ]
    },
    {
      "cell_type": "code",
      "execution_count": 17,
      "metadata": {
        "colab": {
          "base_uri": "https://localhost:8080/"
        },
        "id": "6zYm7WzCL9fK",
        "outputId": "43628b76-bdbc-47d8-b20c-f485f91082b7"
      },
      "outputs": [
        {
          "output_type": "stream",
          "name": "stdout",
          "text": [
            "False\n",
            "True\n",
            "False\n",
            "True\n"
          ]
        }
      ],
      "source": [
        "print(t and f) # Logical AND;\n",
        "print(t or f)  # Logical OR;\n",
        "print(not t)   # Logical NOT;\n",
        "print(t != f)  # Logical XOR;"
      ]
    },
    {
      "cell_type": "markdown",
      "source": [
        "List"
      ],
      "metadata": {
        "id": "F-hjtDpHPBzP"
      }
    },
    {
      "cell_type": "code",
      "execution_count": 23,
      "metadata": {
        "colab": {
          "base_uri": "https://localhost:8080/"
        },
        "id": "hk3A8pPcL9fp",
        "outputId": "543b7079-6017-41af-b068-910413861b09"
      },
      "outputs": [
        {
          "output_type": "stream",
          "name": "stdout",
          "text": [
            "[3, 4, 7] 7\n",
            "7\n"
          ]
        }
      ],
      "source": [
        "list1 = [3, 4, 7]      # Create a list\n",
        "print(list1, list1[2]) # Print lists and specified index from list\n",
        "print(list1[-1])       # Negative indices count from the end of the list"
      ]
    },
    {
      "cell_type": "code",
      "execution_count": 24,
      "metadata": {
        "colab": {
          "base_uri": "https://localhost:8080/"
        },
        "id": "YCjCy_0_L9ft",
        "outputId": "83297483-9f76-4a16-cd2e-68db047111dc"
      },
      "outputs": [
        {
          "output_type": "stream",
          "name": "stdout",
          "text": [
            "[3, 4, 'foo']\n"
          ]
        }
      ],
      "source": [
        "list1[2] = 'foo'    # Replace specified index\n",
        "print(list1)"
      ]
    },
    {
      "cell_type": "code",
      "execution_count": 25,
      "metadata": {
        "colab": {
          "base_uri": "https://localhost:8080/"
        },
        "id": "vJ0x5cF-L9fx",
        "outputId": "decd2066-9138-4fa3-c9e6-7375f30de132"
      },
      "outputs": [
        {
          "output_type": "stream",
          "name": "stdout",
          "text": [
            "[3, 4, 'foo', 'bar']\n"
          ]
        }
      ],
      "source": [
        "list1.append('bar') # Add a new element to the end of the list\n",
        "print(list1)  "
      ]
    },
    {
      "cell_type": "code",
      "execution_count": 26,
      "metadata": {
        "colab": {
          "base_uri": "https://localhost:8080/"
        },
        "id": "cxVCNRTNL9f1",
        "outputId": "b750754e-5214-41cf-934c-19143a540034"
      },
      "outputs": [
        {
          "output_type": "stream",
          "name": "stdout",
          "text": [
            "bar [3, 4, 'foo']\n"
          ]
        }
      ],
      "source": [
        "list2 = list1.pop()     # Remove and return the last element of the list\n",
        "print(list2, list1)"
      ]
    },
    {
      "cell_type": "markdown",
      "source": [
        "Tuple"
      ],
      "metadata": {
        "id": "KpMEqNbRQQxF"
      }
    },
    {
      "cell_type": "code",
      "source": [
        "#Accessing Tuple\n",
        "tup1 = ('fisika', 'kimia', 1993, 2017)\n",
        "tup2 = (1, 2, 3, 4, 5, 6, 7 )\n",
        "\n",
        "print (\"tup1[0]: \", tup1[0])\n",
        "print (\"tup2[1:5]: \", tup2[1:5])"
      ],
      "metadata": {
        "colab": {
          "base_uri": "https://localhost:8080/"
        },
        "id": "1AAh-GmBQRUO",
        "outputId": "b0780171-44d6-4234-ce01-55688896b982"
      },
      "execution_count": 30,
      "outputs": [
        {
          "output_type": "stream",
          "name": "stdout",
          "text": [
            "tup1[0]:  fisika\n",
            "tup2[1:5]:  (2, 3, 4, 5)\n"
          ]
        }
      ]
    },
    {
      "cell_type": "code",
      "source": [
        "#Updating Tuple\n",
        "tup1 = (12, 34.56)\n",
        "tup2 = ('abc', 'xyz')\n",
        "\n",
        "tup3 = tup1 + tup2\n",
        "print (tup3)"
      ],
      "metadata": {
        "colab": {
          "base_uri": "https://localhost:8080/"
        },
        "id": "MZLCA3c9QvVH",
        "outputId": "f08fa95b-06b8-42fd-b3c0-c7e9812f8fb3"
      },
      "execution_count": 31,
      "outputs": [
        {
          "output_type": "stream",
          "name": "stdout",
          "text": [
            "(12, 34.56, 'abc', 'xyz')\n"
          ]
        }
      ]
    },
    {
      "cell_type": "code",
      "source": [
        "#Deleting Tuple\n",
        "tup = ('fisika', 'kimia', 1993, 2017)\n",
        "print(tup)\n",
        "\n",
        "del tup\n",
        "\n",
        "tup = ('Bahasa', 'Literasi', 2020)\n",
        "print(\"Setelah menghapus tuple :\", tup)"
      ],
      "metadata": {
        "colab": {
          "base_uri": "https://localhost:8080/"
        },
        "id": "UuBEZ7wOQ7MG",
        "outputId": "8f2adb4d-71c7-41f0-9819-1f9fbdf5ba61"
      },
      "execution_count": 32,
      "outputs": [
        {
          "output_type": "stream",
          "name": "stdout",
          "text": [
            "('fisika', 'kimia', 1993, 2017)\n",
            "Setelah menghapus tuple : ('Bahasa', 'Literasi', 2020)\n"
          ]
        }
      ]
    },
    {
      "cell_type": "markdown",
      "source": [
        "Dictionary"
      ],
      "metadata": {
        "id": "2zCF8IqYRIWJ"
      }
    },
    {
      "cell_type": "code",
      "source": [
        "dict = {'Name': 'Zara', 'Age': 7, 'Class': 'First'}\n",
        "print (\"dict['Name']: \", dict['Name'])\n",
        "print (\"dict['Age']: \", dict['Age'])"
      ],
      "metadata": {
        "colab": {
          "base_uri": "https://localhost:8080/"
        },
        "id": "-eDyCaoWRJYn",
        "outputId": "d309ebfa-7af0-4e7a-dcf9-6e2a7ee4493f"
      },
      "execution_count": 45,
      "outputs": [
        {
          "output_type": "stream",
          "name": "stdout",
          "text": [
            "dict['Name']:  Zara\n",
            "dict['Age']:  7\n"
          ]
        }
      ]
    },
    {
      "cell_type": "code",
      "source": [
        "#Updating Dictionary\n",
        "dict['Age'] = 8; \n",
        "dict['School'] = \"DPS School\" \n",
        "\n",
        "print (\"dict['Age']: \", dict['Age'])\n",
        "print (\"dict['School']: \", dict['School'])"
      ],
      "metadata": {
        "colab": {
          "base_uri": "https://localhost:8080/"
        },
        "id": "nycJxqtpRNV7",
        "outputId": "b443deb3-bbed-4679-9692-850d77fb8992"
      },
      "execution_count": 46,
      "outputs": [
        {
          "output_type": "stream",
          "name": "stdout",
          "text": [
            "dict['Age']:  8\n",
            "dict['School']:  DPS School\n"
          ]
        }
      ]
    },
    {
      "cell_type": "markdown",
      "source": [
        "###Function"
      ],
      "metadata": {
        "id": "V8gdmqTQTHrY"
      }
    },
    {
      "cell_type": "code",
      "execution_count": 58,
      "metadata": {
        "colab": {
          "base_uri": "https://localhost:8080/"
        },
        "id": "kiMDUr58L9hN",
        "outputId": "c766210b-67ad-4601-e8f0-8f5ad96b39ee"
      },
      "outputs": [
        {
          "output_type": "stream",
          "name": "stdout",
          "text": [
            "negative\n",
            "zero\n",
            "positive\n"
          ]
        }
      ],
      "source": [
        "def sign(x):\n",
        "    if x > 0:\n",
        "        return 'positive'\n",
        "    elif x < 0:\n",
        "        return 'negative'\n",
        "    else:\n",
        "        return 'zero'\n",
        "\n",
        "for x in [-1, 0, 1]:\n",
        "    print(sign(x))"
      ]
    },
    {
      "cell_type": "code",
      "execution_count": 59,
      "metadata": {
        "colab": {
          "base_uri": "https://localhost:8080/"
        },
        "id": "PfsZ3DazL9hR",
        "outputId": "6fd57342-cede-4a54-ec98-4ad7c0687bc6"
      },
      "outputs": [
        {
          "output_type": "stream",
          "name": "stdout",
          "text": [
            "Hello, Chris!\n",
            "HELLO, BENNY\n"
          ]
        }
      ],
      "source": [
        "def hello(name, loud=False):\n",
        "    if loud:\n",
        "        print('HELLO, {}'.format(name.upper()))\n",
        "    else:\n",
        "        print('Hello, {}!'.format(name))\n",
        "\n",
        "hello('Chris')\n",
        "hello('Benny', loud=True)"
      ]
    },
    {
      "cell_type": "markdown",
      "source": [
        "###Condition"
      ],
      "metadata": {
        "id": "spgwzHU4TgRh"
      }
    },
    {
      "cell_type": "code",
      "execution_count": 60,
      "metadata": {
        "id": "gy_X7I2PJVeO",
        "colab": {
          "base_uri": "https://localhost:8080/"
        },
        "outputId": "ffe4b328-d581-4e2d-9d77-0651703a0567"
      },
      "outputs": [
        {
          "output_type": "stream",
          "name": "stdout",
          "text": [
            "8 is greater than 5 but not greater than 10\n"
          ]
        }
      ],
      "source": [
        "a = 8\n",
        "if a > 10:\n",
        "    print(a, 'is greater than 10')\n",
        "    if a >= 15:\n",
        "        print(a, 'is also at least 15')\n",
        "elif a > 5:\n",
        "    print(a, 'is greater than 5 but not greater than 10')\n",
        "else:\n",
        "    print('no condition matched')\n",
        "    print('so a is 5 or less')"
      ]
    },
    {
      "cell_type": "markdown",
      "source": [
        "###Loops"
      ],
      "metadata": {
        "id": "tN_mo_NtUPVV"
      }
    },
    {
      "cell_type": "markdown",
      "source": [
        "While Loop"
      ],
      "metadata": {
        "id": "kb7l0OctUchu"
      }
    },
    {
      "cell_type": "code",
      "source": [
        "count = 0\n",
        "while (count < 9):\n",
        "    print (\"The count is: \", count)\n",
        "    count = count + 1\n",
        "\n",
        "print (\"Good bye!\")"
      ],
      "metadata": {
        "colab": {
          "base_uri": "https://localhost:8080/"
        },
        "id": "QLLVBgi1UR1j",
        "outputId": "2754c3e6-e845-49f8-cba5-bb249e8b620f"
      },
      "execution_count": 61,
      "outputs": [
        {
          "output_type": "stream",
          "name": "stdout",
          "text": [
            "The count is:  0\n",
            "The count is:  1\n",
            "The count is:  2\n",
            "The count is:  3\n",
            "The count is:  4\n",
            "The count is:  5\n",
            "The count is:  6\n",
            "The count is:  7\n",
            "The count is:  8\n",
            "Good bye!\n"
          ]
        }
      ]
    },
    {
      "cell_type": "markdown",
      "source": [
        "For Loop"
      ],
      "metadata": {
        "id": "tDTwHKmzUgpb"
      }
    },
    {
      "cell_type": "code",
      "source": [
        "buah = [\"nanas\", \"apel\", \"jeruk\"]\n",
        "for makanan in buah:\n",
        "    print (\"Saya suka makan\", makanan)"
      ],
      "metadata": {
        "colab": {
          "base_uri": "https://localhost:8080/"
        },
        "id": "sH8GPgLnUf5P",
        "outputId": "22857730-8e58-428a-fa05-257d5a543436"
      },
      "execution_count": 62,
      "outputs": [
        {
          "output_type": "stream",
          "name": "stdout",
          "text": [
            "Saya suka makan nanas\n",
            "Saya suka makan apel\n",
            "Saya suka makan jeruk\n"
          ]
        }
      ]
    },
    {
      "cell_type": "markdown",
      "source": [
        "Nested Loop"
      ],
      "metadata": {
        "id": "UqftzN1tUpjD"
      }
    },
    {
      "cell_type": "code",
      "source": [
        "i = 2\n",
        "while(i < 100):\n",
        "    j = 2\n",
        "    while(j <= (i/j)):\n",
        "        if not(i%j): break\n",
        "        j = j + 1\n",
        "    if (j > i/j) : print(i, \" is prime\")\n",
        "    i = i + 1\n",
        "\n",
        "print(\"Good bye!\")"
      ],
      "metadata": {
        "colab": {
          "base_uri": "https://localhost:8080/"
        },
        "id": "m2IvUeY0UqQR",
        "outputId": "dc133420-4d15-4516-a71d-8f4b15046d40"
      },
      "execution_count": 63,
      "outputs": [
        {
          "output_type": "stream",
          "name": "stdout",
          "text": [
            "2  is prime\n",
            "3  is prime\n",
            "5  is prime\n",
            "7  is prime\n",
            "11  is prime\n",
            "13  is prime\n",
            "17  is prime\n",
            "19  is prime\n",
            "23  is prime\n",
            "29  is prime\n",
            "31  is prime\n",
            "37  is prime\n",
            "41  is prime\n",
            "43  is prime\n",
            "47  is prime\n",
            "53  is prime\n",
            "59  is prime\n",
            "61  is prime\n",
            "67  is prime\n",
            "71  is prime\n",
            "73  is prime\n",
            "79  is prime\n",
            "83  is prime\n",
            "89  is prime\n",
            "97  is prime\n",
            "Good bye!\n"
          ]
        }
      ]
    },
    {
      "cell_type": "markdown",
      "source": [
        "###Date & Time"
      ],
      "metadata": {
        "id": "xz-DS5kKR-xu"
      }
    },
    {
      "cell_type": "markdown",
      "source": [
        "Localtime"
      ],
      "metadata": {
        "id": "T8A9GXS3S2kL"
      }
    },
    {
      "cell_type": "code",
      "source": [
        "import time;\n",
        "\n",
        "ticks = time.time() #interval floating-point in seconds\n",
        "print (\"Since 12:00am, January 1, 1970 :\", ticks)"
      ],
      "metadata": {
        "colab": {
          "base_uri": "https://localhost:8080/"
        },
        "id": "kHBy9mmxSPjF",
        "outputId": "6fc37771-b0d1-4b29-9832-db5e7150ba9d"
      },
      "execution_count": 54,
      "outputs": [
        {
          "output_type": "stream",
          "name": "stdout",
          "text": [
            "Since 12:00am, January 1, 1970 : 1649473616.4423544\n"
          ]
        }
      ]
    },
    {
      "cell_type": "code",
      "source": [
        "localtime = time.localtime(time.time())\n",
        "print (\"Localtime :\", localtime)"
      ],
      "metadata": {
        "colab": {
          "base_uri": "https://localhost:8080/"
        },
        "id": "kPkMnPiRSi1q",
        "outputId": "500f651a-2935-4bcf-b1dc-bbabf9929552"
      },
      "execution_count": 55,
      "outputs": [
        {
          "output_type": "stream",
          "name": "stdout",
          "text": [
            "Localtime : time.struct_time(tm_year=2022, tm_mon=4, tm_mday=9, tm_hour=3, tm_min=7, tm_sec=23, tm_wday=5, tm_yday=99, tm_isdst=0)\n"
          ]
        }
      ]
    },
    {
      "cell_type": "markdown",
      "source": [
        "Calendar"
      ],
      "metadata": {
        "id": "z9vYPfRHS4dJ"
      }
    },
    {
      "cell_type": "code",
      "source": [
        "import calendar;\n",
        "cal = calendar.month(2001, 2)\n",
        "print (cal)"
      ],
      "metadata": {
        "colab": {
          "base_uri": "https://localhost:8080/"
        },
        "id": "Wh-T25lsS03B",
        "outputId": "282d1a47-511e-493b-9999-28df2e7e59d7"
      },
      "execution_count": 57,
      "outputs": [
        {
          "output_type": "stream",
          "name": "stdout",
          "text": [
            "   February 2001\n",
            "Mo Tu We Th Fr Sa Su\n",
            "          1  2  3  4\n",
            " 5  6  7  8  9 10 11\n",
            "12 13 14 15 16 17 18\n",
            "19 20 21 22 23 24 25\n",
            "26 27 28\n",
            "\n"
          ]
        }
      ]
    }
  ]
}